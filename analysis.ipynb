{
  "nbformat": 4,
  "nbformat_minor": 0,
  "metadata": {
    "colab": {
      "name": "analysis",
      "provenance": [],
      "collapsed_sections": [],
      "toc_visible": true
    },
    "kernelspec": {
      "name": "python3",
      "display_name": "Python 3"
    },
    "language_info": {
      "name": "python"
    }
  },
  "cells": [
    {
      "cell_type": "markdown",
      "metadata": {
        "id": "rW-VB84dw-Fa"
      },
      "source": [
        "# New section"
      ]
    },
    {
      "cell_type": "code",
      "metadata": {
        "id": "nPpjDv4jxK1o"
      },
      "source": [
        "import pandas as pd\n",
        "import matplotlib.pyplot as plt"
      ],
      "execution_count": null,
      "outputs": []
    },
    {
      "cell_type": "code",
      "metadata": {
        "colab": {
          "base_uri": "https://localhost:8080/",
          "height": 765
        },
        "id": "9TvDvKgwyKG5",
        "outputId": "53e9f20e-6931-486b-c1aa-791c36547ac1"
      },
      "source": [
        "dataframe = pd.read_csv('nypd.csv')\n",
        "# read top 10 rows\n",
        "dataframe.head(10)"
      ],
      "execution_count": null,
      "outputs": [
        {
          "output_type": "execute_result",
          "data": {
            "text/html": [
              "<div>\n",
              "<style scoped>\n",
              "    .dataframe tbody tr th:only-of-type {\n",
              "        vertical-align: middle;\n",
              "    }\n",
              "\n",
              "    .dataframe tbody tr th {\n",
              "        vertical-align: top;\n",
              "    }\n",
              "\n",
              "    .dataframe thead th {\n",
              "        text-align: right;\n",
              "    }\n",
              "</style>\n",
              "<table border=\"1\" class=\"dataframe\">\n",
              "  <thead>\n",
              "    <tr style=\"text-align: right;\">\n",
              "      <th></th>\n",
              "      <th>Full Complaint ID</th>\n",
              "      <th>Complaint Year Number</th>\n",
              "      <th>Month Number</th>\n",
              "      <th>Record Create Date</th>\n",
              "      <th>Complaint Precinct Code</th>\n",
              "      <th>Patrol Borough Name</th>\n",
              "      <th>County</th>\n",
              "      <th>Law Code Category Description</th>\n",
              "      <th>Offense Description</th>\n",
              "      <th>PD Code Description</th>\n",
              "      <th>Bias Motive Description</th>\n",
              "      <th>Offense Category</th>\n",
              "      <th>Arrest Date</th>\n",
              "      <th>Arrest Id</th>\n",
              "    </tr>\n",
              "  </thead>\n",
              "  <tbody>\n",
              "    <tr>\n",
              "      <th>0</th>\n",
              "      <td>201904612204817</td>\n",
              "      <td>2019</td>\n",
              "      <td>2</td>\n",
              "      <td>02/08/2019</td>\n",
              "      <td>46</td>\n",
              "      <td>PATROL BORO BRONX</td>\n",
              "      <td>BRONX</td>\n",
              "      <td>FELONY</td>\n",
              "      <td>FELONY ASSAULT</td>\n",
              "      <td>ASSAULT 2,1,UNCLASSIFIED</td>\n",
              "      <td>ANTI-MALE HOMOSEXUAL (GAY)</td>\n",
              "      <td>Sexual Orientation</td>\n",
              "      <td>02/08/2019</td>\n",
              "      <td>B31678218</td>\n",
              "    </tr>\n",
              "    <tr>\n",
              "      <th>1</th>\n",
              "      <td>201904812229517</td>\n",
              "      <td>2019</td>\n",
              "      <td>3</td>\n",
              "      <td>03/09/2019</td>\n",
              "      <td>48</td>\n",
              "      <td>PATROL BORO BRONX</td>\n",
              "      <td>BRONX</td>\n",
              "      <td>MISDEMEANOR</td>\n",
              "      <td>ASSAULT 3 &amp; RELATED OFFENSES</td>\n",
              "      <td>ASSAULT 3</td>\n",
              "      <td>ANTI-WHITE</td>\n",
              "      <td>Race/Color</td>\n",
              "      <td>03/09/2019</td>\n",
              "      <td>B31682790</td>\n",
              "    </tr>\n",
              "    <tr>\n",
              "      <th>2</th>\n",
              "      <td>201904812226617</td>\n",
              "      <td>2019</td>\n",
              "      <td>3</td>\n",
              "      <td>03/08/2019</td>\n",
              "      <td>48</td>\n",
              "      <td>PATROL BORO BRONX</td>\n",
              "      <td>BRONX</td>\n",
              "      <td>MISDEMEANOR</td>\n",
              "      <td>ASSAULT 3 &amp; RELATED OFFENSES</td>\n",
              "      <td>ASSAULT 3</td>\n",
              "      <td>ANTI-WHITE</td>\n",
              "      <td>Race/Color</td>\n",
              "      <td>03/09/2019</td>\n",
              "      <td>B31682806</td>\n",
              "    </tr>\n",
              "    <tr>\n",
              "      <th>3</th>\n",
              "      <td>201904812231317</td>\n",
              "      <td>2019</td>\n",
              "      <td>3</td>\n",
              "      <td>03/10/2019</td>\n",
              "      <td>48</td>\n",
              "      <td>PATROL BORO BRONX</td>\n",
              "      <td>BRONX</td>\n",
              "      <td>MISDEMEANOR</td>\n",
              "      <td>ASSAULT 3 &amp; RELATED OFFENSES</td>\n",
              "      <td>ASSAULT 3</td>\n",
              "      <td>ANTI-WHITE</td>\n",
              "      <td>Race/Color</td>\n",
              "      <td>03/09/2019</td>\n",
              "      <td>B31682806</td>\n",
              "    </tr>\n",
              "    <tr>\n",
              "      <th>4</th>\n",
              "      <td>201904212405517</td>\n",
              "      <td>2019</td>\n",
              "      <td>5</td>\n",
              "      <td>05/11/2019</td>\n",
              "      <td>42</td>\n",
              "      <td>PATROL BORO BRONX</td>\n",
              "      <td>BRONX</td>\n",
              "      <td>FELONY</td>\n",
              "      <td>ROBBERY</td>\n",
              "      <td>ROBBERY,POCKETBOOK/CARRIED BAG</td>\n",
              "      <td>ANTI-MUSLIM</td>\n",
              "      <td>Religion/Religious Practice</td>\n",
              "      <td>05/10/2019</td>\n",
              "      <td>B31692174</td>\n",
              "    </tr>\n",
              "    <tr>\n",
              "      <th>5</th>\n",
              "      <td>201904212405517</td>\n",
              "      <td>2019</td>\n",
              "      <td>5</td>\n",
              "      <td>05/11/2019</td>\n",
              "      <td>42</td>\n",
              "      <td>PATROL BORO BRONX</td>\n",
              "      <td>BRONX</td>\n",
              "      <td>FELONY</td>\n",
              "      <td>ROBBERY</td>\n",
              "      <td>ROBBERY,POCKETBOOK/CARRIED BAG</td>\n",
              "      <td>ANTI-MUSLIM</td>\n",
              "      <td>Religion/Religious Practice</td>\n",
              "      <td>05/10/2019</td>\n",
              "      <td>B31692175</td>\n",
              "    </tr>\n",
              "    <tr>\n",
              "      <th>6</th>\n",
              "      <td>201904212405517</td>\n",
              "      <td>2019</td>\n",
              "      <td>5</td>\n",
              "      <td>05/11/2019</td>\n",
              "      <td>42</td>\n",
              "      <td>PATROL BORO BRONX</td>\n",
              "      <td>BRONX</td>\n",
              "      <td>FELONY</td>\n",
              "      <td>ROBBERY</td>\n",
              "      <td>ROBBERY,POCKETBOOK/CARRIED BAG</td>\n",
              "      <td>ANTI-MUSLIM</td>\n",
              "      <td>Religion/Religious Practice</td>\n",
              "      <td>05/10/2019</td>\n",
              "      <td>B31692176</td>\n",
              "    </tr>\n",
              "    <tr>\n",
              "      <th>7</th>\n",
              "      <td>201904012711317</td>\n",
              "      <td>2019</td>\n",
              "      <td>6</td>\n",
              "      <td>06/01/2019</td>\n",
              "      <td>40</td>\n",
              "      <td>PATROL BORO BRONX</td>\n",
              "      <td>BRONX</td>\n",
              "      <td>FELONY</td>\n",
              "      <td>RAPE</td>\n",
              "      <td>RAPE 1</td>\n",
              "      <td>ANTI-WHITE</td>\n",
              "      <td>Race/Color</td>\n",
              "      <td>06/14/2019</td>\n",
              "      <td>B31697030</td>\n",
              "    </tr>\n",
              "    <tr>\n",
              "      <th>8</th>\n",
              "      <td>201904912495217</td>\n",
              "      <td>2019</td>\n",
              "      <td>7</td>\n",
              "      <td>07/09/2019</td>\n",
              "      <td>49</td>\n",
              "      <td>PATROL BORO BRONX</td>\n",
              "      <td>BRONX</td>\n",
              "      <td>FELONY</td>\n",
              "      <td>FELONY ASSAULT</td>\n",
              "      <td>ASSAULT 2,1,UNCLASSIFIED</td>\n",
              "      <td>ANTI-HISPANIC</td>\n",
              "      <td>Ethnicity/National Origin/Ancestry</td>\n",
              "      <td>07/21/2019</td>\n",
              "      <td>B31702150</td>\n",
              "    </tr>\n",
              "    <tr>\n",
              "      <th>9</th>\n",
              "      <td>201904712851617</td>\n",
              "      <td>2019</td>\n",
              "      <td>8</td>\n",
              "      <td>08/05/2019</td>\n",
              "      <td>47</td>\n",
              "      <td>PATROL BORO BRONX</td>\n",
              "      <td>BRONX</td>\n",
              "      <td>MISDEMEANOR</td>\n",
              "      <td>ASSAULT 3 &amp; RELATED OFFENSES</td>\n",
              "      <td>MENACING,UNCLASSIFIED</td>\n",
              "      <td>ANTI-TRANSGENDER</td>\n",
              "      <td>Gender</td>\n",
              "      <td>08/05/2019</td>\n",
              "      <td>B31704341</td>\n",
              "    </tr>\n",
              "  </tbody>\n",
              "</table>\n",
              "</div>"
            ],
            "text/plain": [
              "   Full Complaint ID  Complaint Year Number  ...  Arrest Date  Arrest Id\n",
              "0    201904612204817                   2019  ...   02/08/2019  B31678218\n",
              "1    201904812229517                   2019  ...   03/09/2019  B31682790\n",
              "2    201904812226617                   2019  ...   03/09/2019  B31682806\n",
              "3    201904812231317                   2019  ...   03/09/2019  B31682806\n",
              "4    201904212405517                   2019  ...   05/10/2019  B31692174\n",
              "5    201904212405517                   2019  ...   05/10/2019  B31692175\n",
              "6    201904212405517                   2019  ...   05/10/2019  B31692176\n",
              "7    201904012711317                   2019  ...   06/14/2019  B31697030\n",
              "8    201904912495217                   2019  ...   07/21/2019  B31702150\n",
              "9    201904712851617                   2019  ...   08/05/2019  B31704341\n",
              "\n",
              "[10 rows x 14 columns]"
            ]
          },
          "metadata": {},
          "execution_count": 2
        }
      ]
    },
    {
      "cell_type": "markdown",
      "metadata": {
        "id": "mOV90srAyiDw"
      },
      "source": [
        "**Check null values in the dataframe columns**"
      ]
    },
    {
      "cell_type": "code",
      "metadata": {
        "colab": {
          "base_uri": "https://localhost:8080/"
        },
        "id": "YU08Bmj-yg7r",
        "outputId": "2b4c9311-257c-4031-8d99-2d82603029db"
      },
      "source": [
        "dataframe.isnull().sum()\n"
      ],
      "execution_count": null,
      "outputs": [
        {
          "output_type": "execute_result",
          "data": {
            "text/plain": [
              "Full Complaint ID                  0\n",
              "Complaint Year Number              0\n",
              "Month Number                       0\n",
              "Record Create Date                 0\n",
              "Complaint Precinct Code            0\n",
              "Patrol Borough Name                0\n",
              "County                             0\n",
              "Law Code Category Description      0\n",
              "Offense Description                0\n",
              "PD Code Description                0\n",
              "Bias Motive Description            0\n",
              "Offense Category                   0\n",
              "Arrest Date                      784\n",
              "Arrest Id                        784\n",
              "dtype: int64"
            ]
          },
          "metadata": {},
          "execution_count": 3
        }
      ]
    },
    {
      "cell_type": "markdown",
      "metadata": {
        "id": "yoLqMB0TzaLH"
      },
      "source": [
        "**check the shape and size  of dataframe**"
      ]
    },
    {
      "cell_type": "code",
      "metadata": {
        "colab": {
          "base_uri": "https://localhost:8080/"
        },
        "id": "ldfhYy8rzV0E",
        "outputId": "0cf82099-8e5c-46dc-f485-cc2a56c1c0e6"
      },
      "source": [
        "print(f'the number of rows : {dataframe.shape[0]}')\n",
        "print(f'the number of columns :{dataframe.shape[1]}')"
      ],
      "execution_count": null,
      "outputs": [
        {
          "output_type": "stream",
          "name": "stdout",
          "text": [
            "the number of rows : 1181\n",
            "the number of columns :14\n"
          ]
        }
      ]
    },
    {
      "cell_type": "code",
      "metadata": {
        "colab": {
          "base_uri": "https://localhost:8080/"
        },
        "id": "PQCBm4r9y1n4",
        "outputId": "94a94c1c-54f3-41da-ca15-c4dfd5b5a3a3"
      },
      "source": [
        "percentageOfNull = dataframe.isnull().sum()/len(dataframe) * 100\n",
        "\n",
        "percentageOfNull"
      ],
      "execution_count": null,
      "outputs": [
        {
          "output_type": "execute_result",
          "data": {
            "text/plain": [
              "Full Complaint ID                 0.00000\n",
              "Complaint Year Number             0.00000\n",
              "Month Number                      0.00000\n",
              "Record Create Date                0.00000\n",
              "Complaint Precinct Code           0.00000\n",
              "Patrol Borough Name               0.00000\n",
              "County                            0.00000\n",
              "Law Code Category Description     0.00000\n",
              "Offense Description               0.00000\n",
              "PD Code Description               0.00000\n",
              "Bias Motive Description           0.00000\n",
              "Offense Category                  0.00000\n",
              "Arrest Date                      66.38442\n",
              "Arrest Id                        66.38442\n",
              "dtype: float64"
            ]
          },
          "metadata": {},
          "execution_count": 5
        }
      ]
    },
    {
      "cell_type": "code",
      "metadata": {
        "colab": {
          "base_uri": "https://localhost:8080/"
        },
        "id": "KON_efx_y1hp",
        "outputId": "13d7d772-2fdb-4141-be6a-eb9e5ccf16fc"
      },
      "source": [
        "dataframe.columns"
      ],
      "execution_count": null,
      "outputs": [
        {
          "output_type": "execute_result",
          "data": {
            "text/plain": [
              "Index(['Full Complaint ID', 'Complaint Year Number', 'Month Number',\n",
              "       'Record Create Date', 'Complaint Precinct Code', 'Patrol Borough Name',\n",
              "       'County', 'Law Code Category Description', 'Offense Description',\n",
              "       'PD Code Description', 'Bias Motive Description', 'Offense Category',\n",
              "       'Arrest Date', 'Arrest Id'],\n",
              "      dtype='object')"
            ]
          },
          "metadata": {},
          "execution_count": 6
        }
      ]
    },
    {
      "cell_type": "markdown",
      "metadata": {
        "id": "SPVDmE6j0Krs"
      },
      "source": [
        "**Remove null values columns with null value percentage more than 50%**"
      ]
    },
    {
      "cell_type": "code",
      "metadata": {
        "colab": {
          "base_uri": "https://localhost:8080/"
        },
        "id": "KBpbyv3G0aOO",
        "outputId": "27c37021-bcd3-4638-fd82-7ce2805dcedf"
      },
      "source": [
        "dataframe = dataframe.drop(labels=['Arrest Id','Arrest Date'], axis=1)\n",
        "dataframe.isnull().sum()"
      ],
      "execution_count": null,
      "outputs": [
        {
          "output_type": "execute_result",
          "data": {
            "text/plain": [
              "Full Complaint ID                0\n",
              "Complaint Year Number            0\n",
              "Month Number                     0\n",
              "Record Create Date               0\n",
              "Complaint Precinct Code          0\n",
              "Patrol Borough Name              0\n",
              "County                           0\n",
              "Law Code Category Description    0\n",
              "Offense Description              0\n",
              "PD Code Description              0\n",
              "Bias Motive Description          0\n",
              "Offense Category                 0\n",
              "dtype: int64"
            ]
          },
          "metadata": {},
          "execution_count": 7
        }
      ]
    },
    {
      "cell_type": "markdown",
      "metadata": {
        "id": "mh0WG-gm1gUH"
      },
      "source": [
        "**Categorical columns and numerical columns**"
      ]
    },
    {
      "cell_type": "code",
      "metadata": {
        "colab": {
          "base_uri": "https://localhost:8080/"
        },
        "id": "1mmnJJI51n0B",
        "outputId": "beed284c-6538-475b-dae7-fa221212f899"
      },
      "source": [
        "df = dataframe\n",
        "df.columns"
      ],
      "execution_count": null,
      "outputs": [
        {
          "output_type": "execute_result",
          "data": {
            "text/plain": [
              "Index(['Full Complaint ID', 'Complaint Year Number', 'Month Number',\n",
              "       'Record Create Date', 'Complaint Precinct Code', 'Patrol Borough Name',\n",
              "       'County', 'Law Code Category Description', 'Offense Description',\n",
              "       'PD Code Description', 'Bias Motive Description', 'Offense Category'],\n",
              "      dtype='object')"
            ]
          },
          "metadata": {},
          "execution_count": 8
        }
      ]
    },
    {
      "cell_type": "code",
      "metadata": {
        "id": "RM_Fdxli2aje"
      },
      "source": [
        "cols = df.columns"
      ],
      "execution_count": null,
      "outputs": []
    },
    {
      "cell_type": "code",
      "metadata": {
        "colab": {
          "base_uri": "https://localhost:8080/"
        },
        "id": "vUoZZKEe2HBe",
        "outputId": "9b1c1ef9-3e4e-4812-bb82-c80c8ea7a795"
      },
      "source": [
        "numerical_Col = df._get_numeric_data().columns\n",
        "print(numerical_Col)"
      ],
      "execution_count": null,
      "outputs": [
        {
          "output_type": "stream",
          "name": "stdout",
          "text": [
            "Index(['Full Complaint ID', 'Complaint Year Number', 'Month Number',\n",
            "       'Complaint Precinct Code'],\n",
            "      dtype='object')\n"
          ]
        }
      ]
    },
    {
      "cell_type": "code",
      "metadata": {
        "colab": {
          "base_uri": "https://localhost:8080/"
        },
        "id": "7tviWrOi2eoZ",
        "outputId": "0d1e660f-e052-46ef-92ae-ee049f4d3640"
      },
      "source": [
        "categorical_Col = list(set(cols) - set(numerical_Col))\n",
        "categorical_Col\n"
      ],
      "execution_count": null,
      "outputs": [
        {
          "output_type": "execute_result",
          "data": {
            "text/plain": [
              "['Bias Motive Description',\n",
              " 'PD Code Description',\n",
              " 'County',\n",
              " 'Record Create Date',\n",
              " 'Patrol Borough Name',\n",
              " 'Offense Category',\n",
              " 'Law Code Category Description',\n",
              " 'Offense Description']"
            ]
          },
          "metadata": {},
          "execution_count": 11
        }
      ]
    },
    {
      "cell_type": "markdown",
      "metadata": {
        "id": "oa--_QIM3jfe"
      },
      "source": [
        "**Show top offensive category**"
      ]
    },
    {
      "cell_type": "code",
      "metadata": {
        "colab": {
          "base_uri": "https://localhost:8080/"
        },
        "id": "0RVgEE4e2q_4",
        "outputId": "eadeb7f6-5792-429e-c3ed-8325dcf07fcb"
      },
      "source": [
        "offensive_cat = df['Offense Category'].value_counts()\n",
        "offensive_cat"
      ],
      "execution_count": null,
      "outputs": [
        {
          "output_type": "execute_result",
          "data": {
            "text/plain": [
              "Religion/Religious Practice           596\n",
              "Race/Color                            321\n",
              "Sexual Orientation                    166\n",
              "Gender                                 50\n",
              "Ethnicity/National Origin/Ancestry     40\n",
              "Unclassified                            6\n",
              "Disability                              1\n",
              "Age                                     1\n",
              "Name: Offense Category, dtype: int64"
            ]
          },
          "metadata": {},
          "execution_count": 12
        }
      ]
    },
    {
      "cell_type": "code",
      "metadata": {
        "colab": {
          "base_uri": "https://localhost:8080/",
          "height": 428
        },
        "id": "yyG21vDE4G53",
        "outputId": "6ae11b35-3ffc-4126-fcc9-00b4392d6df5"
      },
      "source": [
        "import seaborn as sns\n",
        "\n",
        "sns.countplot(x='Offense Category', data=df);\n",
        "plt.xticks(rotation=65, horizontalalignment='right');"
      ],
      "execution_count": null,
      "outputs": [
        {
          "output_type": "display_data",
          "data": {
            "image/png": "[encoded data removed]",
            "text/plain": [
              "<Figure size 432x288 with 1 Axes>"
            ]
          },
          "metadata": {
            "needs_background": "light"
          }
        }
      ]
    },
    {
      "cell_type": "markdown",
      "metadata": {
        "id": "RcjOdlEOYmVn"
      },
      "source": [
        "**Which county has more crime**"
      ]
    },
    {
      "cell_type": "code",
      "metadata": {
        "id": "Bc1b27jk4VZ_",
        "colab": {
          "base_uri": "https://localhost:8080/"
        },
        "outputId": "974870f8-eaa7-48db-e209-6ea653909529"
      },
      "source": [
        "df['County'].value_counts()"
      ],
      "execution_count": null,
      "outputs": [
        {
          "output_type": "execute_result",
          "data": {
            "text/plain": [
              "NEW YORK    421\n",
              "KINGS       403\n",
              "QUEENS      215\n",
              "BRONX        95\n",
              "RICHMOND     47\n",
              "Name: County, dtype: int64"
            ]
          },
          "metadata": {},
          "execution_count": 15
        }
      ]
    },
    {
      "cell_type": "code",
      "metadata": {
        "colab": {
          "base_uri": "https://localhost:8080/",
          "height": 324
        },
        "id": "jXQW2lf_Y-wm",
        "outputId": "c32080ff-6e5f-42b3-c574-9237eb4dc450"
      },
      "source": [
        "sns.countplot(x='County', data=df);\n",
        "plt.xticks(rotation=65, horizontalalignment='right');"
      ],
      "execution_count": null,
      "outputs": [
        {
          "output_type": "display_data",
          "data": {
            "image/png": "[encoded data removed]",
            "text/plain": [
              "<Figure size 432x288 with 1 Axes>"
            ]
          },
          "metadata": {
            "needs_background": "light"
          }
        }
      ]
    },
    {
      "cell_type": "code",
      "metadata": {
        "colab": {
          "base_uri": "https://localhost:8080/"
        },
        "id": "reRJwQxNbWeL",
        "outputId": "4258f2e8-d198-4ab2-aab8-85ee47e08407"
      },
      "source": [
        "gkk = df.groupby(['Month Number'])['Offense Category'].count()\n",
        "gkk"
      ],
      "execution_count": null,
      "outputs": [
        {
          "output_type": "execute_result",
          "data": {
            "text/plain": [
              "Month Number\n",
              "1      86\n",
              "2      83\n",
              "3     142\n",
              "4     114\n",
              "5     147\n",
              "6     120\n",
              "7      97\n",
              "8     101\n",
              "9      97\n",
              "10     71\n",
              "11     54\n",
              "12     69\n",
              "Name: Offense Category, dtype: int64"
            ]
          },
          "metadata": {},
          "execution_count": 53
        }
      ]
    },
    {
      "cell_type": "code",
      "metadata": {
        "colab": {
          "base_uri": "https://localhost:8080/",
          "height": 279
        },
        "id": "uAcdDuKacoO1",
        "outputId": "ed8c7cbe-e250-4f59-e142-8d10b541b649"
      },
      "source": [
        "gkk.plot();"
      ],
      "execution_count": null,
      "outputs": [
        {
          "output_type": "display_data",
          "data": {
            "image/png": "[encoded data removed]",
            "text/plain": [
              "<Figure size 432x288 with 1 Axes>"
            ]
          },
          "metadata": {
            "needs_background": "light"
          }
        }
      ]
    },
    {
      "cell_type": "code",
      "metadata": {
        "colab": {
          "base_uri": "https://localhost:8080/",
          "height": 442
        },
        "id": "yKZno_XygM07",
        "outputId": "36d310ba-59a5-48bd-d446-2491b2d341d8"
      },
      "source": [
        "df[['Offense Category']].apply(pd.Series.value_counts).plot.bar()"
      ],
      "execution_count": null,
      "outputs": [
        {
          "output_type": "execute_result",
          "data": {
            "text/plain": [
              "<matplotlib.axes._subplots.AxesSubplot at 0x7fbdd6860c90>"
            ]
          },
          "metadata": {},
          "execution_count": 62
        },
        {
          "output_type": "display_data",
          "data": {
            "image/png": "[encoded data removed]",
            "text/plain": [
              "<Figure size 432x288 with 1 Axes>"
            ]
          },
          "metadata": {
            "needs_background": "light"
          }
        }
      ]
    },
    {
      "cell_type": "code",
      "metadata": {
        "colab": {
          "base_uri": "https://localhost:8080/",
          "height": 443
        },
        "id": "qwgAUR9ceRcj",
        "outputId": "c948ef6c-308b-4ac5-9e27-b20f62d27f81"
      },
      "source": [
        "fig, ax = plt.subplots(figsize=(15,7))\n",
        "df.groupby(['Month Number','Offense Category']).count()['Record Create Date'].unstack().plot(ax=ax);"
      ],
      "execution_count": null,
      "outputs": [
        {
          "output_type": "execute_result",
          "data": {
            "text/plain": [
              "<matplotlib.axes._subplots.AxesSubplot at 0x7fbdd4959dd0>"
            ]
          },
          "metadata": {},
          "execution_count": 80
        },
        {
          "output_type": "display_data",
          "data": {
            "image/png": "[encoded data removed]",
            "text/plain": [
              "<Figure size 1080x504 with 1 Axes>"
            ]
          },
          "metadata": {
            "needs_background": "light"
          }
        }
      ]
    }
  ]
}